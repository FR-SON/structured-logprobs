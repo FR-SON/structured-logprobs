{
 "cells": [
  {
   "cell_type": "markdown",
   "metadata": {
    "id": "ySrdbsAImmvN"
   },
   "source": [
    "[![View On GitHub](https://img.shields.io/badge/View_in_Github-grey?logo=github)](https://github.com/arena-ai/structured-logprobs/blob/4-finalize-the-packaging/docs/notebooks/notebook.ipynb)"
   ]
  },
  {
   "cell_type": "markdown",
   "metadata": {
    "id": "PNSgpow1mmvP"
   },
   "source": [
    "[![Open In Colab](https://colab.research.google.com/assets/colab-badge.svg)](https://colab.research.google.com/github/arena-ai/structured-logprobs/blob/4-finalize-the-packaging/docs/notebooks/notebook.ipynb)"
   ]
  },
  {
   "cell_type": "markdown",
   "metadata": {
    "id": "dwszpJwbmmvP"
   },
   "source": [
    "This notebook provides a practical guide on using the `structured-logprobs` library with OpenAI's API to generate structured responses enriched with token-level log-probabilities."
   ]
  },
  {
   "cell_type": "markdown",
   "metadata": {
    "id": "VNRqF0lummvP"
   },
   "source": [
    "## Install the library"
   ]
  },
  {
   "cell_type": "markdown",
   "metadata": {
    "id": "nYBbD-sTmmvQ"
   },
   "source": [
    "`structured-logprobs` is available on PyPI and can be simply installed with pip."
   ]
  },
  {
   "cell_type": "code",
   "execution_count": null,
   "metadata": {
    "id": "LEzOxBTuz17L"
   },
   "outputs": [],
   "source": [
    "!pip install structured-logprobs~=0.1"
   ]
  },
  {
   "cell_type": "markdown",
   "metadata": {
    "id": "h3HpFDTPmmvR"
   },
   "source": [
    "Let's import the required libraries."
   ]
  },
  {
   "cell_type": "code",
   "execution_count": 2,
   "metadata": {
    "id": "zoq76ttC0nBS"
   },
   "outputs": [],
   "source": [
    "import getpass\n",
    "import json\n",
    "import math\n",
    "\n",
    "from openai import OpenAI\n",
    "from openai.types import ResponseFormatJSONSchema\n",
    "from rich import print, print_json\n",
    "\n",
    "from structured_logprobs.main import add_logprobs, add_logprobs_inline"
   ]
  },
  {
   "cell_type": "markdown",
   "metadata": {
    "id": "02gmRX7dmmvR"
   },
   "source": [
    "## Setting Up the OpenAI API Client"
   ]
  },
  {
   "cell_type": "markdown",
   "metadata": {
    "id": "QNgxKrqummvS"
   },
   "source": [
    "An OpenAI API key is mandatory to authenticate access to OpenAI's API. It is a token necessary to initialize the OpenAI Python client, enabling you to send requests to the API and receive responses.\n",
    "\n",
    "In this notebook, you will be prompted to enter your OPENAI_API_KEY securely using Python's getpass module. This ensures that your key is not hardcoded, reducing the risk of accidental exposure."
   ]
  },
  {
   "cell_type": "code",
   "execution_count": null,
   "metadata": {
    "id": "2QNRWDY6-dTg"
   },
   "outputs": [],
   "source": [
    "api_key = getpass.getpass(prompt=\"Enter you OPENAI_API_KEY: \")"
   ]
  },
  {
   "cell_type": "markdown",
   "metadata": {
    "id": "XEFmv6H9mmvS"
   },
   "source": [
    "Let's initialize the OpenAI client."
   ]
  },
  {
   "cell_type": "code",
   "execution_count": 4,
   "metadata": {
    "id": "bS5uatkr0m3x"
   },
   "outputs": [],
   "source": [
    "client = OpenAI(api_key=api_key)"
   ]
  },
  {
   "cell_type": "markdown",
   "metadata": {
    "id": "AAZZYqI0mmvT"
   },
   "source": [
    "## Create a chat completion request"
   ]
  },
  {
   "cell_type": "markdown",
   "metadata": {
    "id": "fk459nuxmmvT"
   },
   "source": [
    "The first step is to define the JSON schema, used to structure the chat request to OpenAI. This schema helps OpenAI understand exactly how the response should be formatted and organized.\n",
    "\n",
    "Below is an example JSON schema used in this notebook. To learn more about JSON Schema, refer to [this overview](https://json-schema.org/overview/what-is-jsonschema)"
   ]
  },
  {
   "cell_type": "code",
   "execution_count": 5,
   "metadata": {
    "id": "aZ389dNjBZ19"
   },
   "outputs": [],
   "source": [
    "schema_content = {\n",
    "    \"type\": \"json_schema\",\n",
    "    \"json_schema\": {\n",
    "        \"name\": \"answears\",\n",
    "        \"description\": \"Response to questions in JSON format\",\n",
    "        \"schema\": {\n",
    "            \"type\": \"object\",\n",
    "            \"properties\": {\n",
    "                \"capital_of_France\": {\"type\": \"string\"},\n",
    "                \"the_two_nicest_colors\": {\n",
    "                    \"type\": \"array\",\n",
    "                    \"items\": {\"type\": \"string\", \"enum\": [\"red\", \"blue\", \"green\", \"yellow\", \"purple\"]},\n",
    "                },\n",
    "                \"die_shows\": {\"type\": \"integer\"},\n",
    "            },\n",
    "            \"required\": [\"capital_of_France\", \"the_two_nicest_colors\", \"die_shows\"],\n",
    "            \"additionalProperties\": False,\n",
    "        },\n",
    "        \"strict\": True,\n",
    "    },\n",
    "}"
   ]
  },
  {
   "cell_type": "markdown",
   "metadata": {
    "id": "yPzGl5iYmmvT"
   },
   "source": [
    "The schema must be validated before being used as a parameter in the request to OpenAI."
   ]
  },
  {
   "cell_type": "code",
   "execution_count": 6,
   "metadata": {
    "id": "gRX19vy5ANZb"
   },
   "outputs": [],
   "source": [
    "response_schema = ResponseFormatJSONSchema.model_validate(schema_content)"
   ]
  },
  {
   "cell_type": "markdown",
   "metadata": {
    "id": "cIQD_KoFmmvU"
   },
   "source": [
    "Additionally, to create the chat completion, you must set up the model, input messages, and other parameters such as logprobs and response_format."
   ]
  },
  {
   "cell_type": "code",
   "execution_count": 7,
   "metadata": {
    "id": "sdvFNe2b-MLE"
   },
   "outputs": [],
   "source": [
    "completion = client.chat.completions.create(\n",
    "    model=\"gpt-4o-2024-08-06\",\n",
    "    messages=[\n",
    "        {\n",
    "            \"role\": \"system\",\n",
    "            \"content\": (\n",
    "                \"I have three questions. The first question is: What is the capital of France? \"\n",
    "                \"The second question is: Which are the two nicest colors? \"\n",
    "                \"The third question is: Can you roll a die and tell me which number comes up?\"\n",
    "            ),\n",
    "        }\n",
    "    ],\n",
    "    logprobs=True,\n",
    "    response_format=response_schema.model_dump(by_alias=True),\n",
    ")"
   ]
  },
  {
   "cell_type": "markdown",
   "metadata": {
    "id": "yadvuQqgmmvU"
   },
   "source": [
    "If you print the response, you can observe how OpenAI organizes the logprobs. These logprobs are associated with individual tokens, which may not be convenient if you are looking for the log probability of the full value extracted for each requested field.\n",
    "\n",
    "```python\n",
    "ChatCompletion(\n",
    "    id='chatcmpl-ApHuoaVGaxOoPUX6syvQt9XkfSkCe',\n",
    "    choices=[\n",
    "        Choice(\n",
    "            finish_reason='stop',\n",
    "            index=0,\n",
    "            logprobs=ChoiceLogprobs(\n",
    "                content=[\n",
    "                    ChatCompletionTokenLogprob(\n",
    "                        token='{\"',\n",
    "                        bytes=[123, 34],\n",
    "                        logprob=-1.50940705e-05\n",
    "                    ),\n",
    "                    ,\n",
    "                    ChatCompletionTokenLogprob(\n",
    "                        token='capital',\n",
    "                        bytes=[99, 97, 112, 105, 116, 97, 108],\n",
    "                        logprob=-7.226629e-06\n",
    "                    ),\n",
    "                    #...\n",
    "                ],\n",
    "                refusal=None\n",
    "            ),\n",
    "            message=ChatCompletionMessage(\n",
    "                content='{\"capital_of_France\": \"Paris\", \"capital_of_France_logprob\": -1.22165105e-06,\n",
    "\"the_two_nicest_colors\": [\"blue\", \"green\"], \"die_shows\": 4.0, \"die_shows_logprob\": -0.44008404}',\n",
    "                refusal=None,\n",
    "                role='assistant',\n",
    "                audio=None,\n",
    "                function_call=None,\n",
    "                tool_calls=None\n",
    "            )\n",
    "        )\n",
    "    ],\n",
    "    created=1736786958,\n",
    "    model='gpt-4o-2024-08-06',\n",
    "    object='chat.completion',\n",
    "    service_tier='default',\n",
    "    system_fingerprint='fp_703d4ff298',\n",
    "    usage=CompletionUsage(\n",
    "        completion_tokens=27,\n",
    "        prompt_tokens=133,\n",
    "        total_tokens=160,\n",
    "        completion_tokens_details=CompletionTokensDetails(\n",
    "            accepted_prediction_tokens=0,\n",
    "            audio_tokens=0,\n",
    "            reasoning_tokens=0,\n",
    "            rejected_prediction_tokens=0\n",
    "        ),\n",
    "        prompt_tokens_details=PromptTokensDetails(audio_tokens=0, cached_tokens=0)\n",
    "    )\n",
    ")\n",
    "```"
   ]
  },
  {
   "cell_type": "markdown",
   "metadata": {
    "id": "dQhhbHlLmmvU"
   },
   "source": [
    "## Enhance the chat completion result with log probabilities"
   ]
  },
  {
   "cell_type": "markdown",
   "metadata": {
    "id": "BpxIfEjJmmvU"
   },
   "source": [
    "The strategy for aggregating log-probabilities involves mapping each character in the generated message's content to its corresponding token. Instead of focusing on individual token probabilities, the log probabilities of all tokens that form a given value are summed. This approach generates a more meaningful probability for all JSON elements."
   ]
  },
  {
   "cell_type": "code",
   "execution_count": 8,
   "metadata": {
    "id": "M49qluzkmmvU"
   },
   "outputs": [],
   "source": [
    "chat_completion = add_logprobs(completion)"
   ]
  },
  {
   "cell_type": "markdown",
   "metadata": {
    "id": "NafNeu3JmmvV"
   },
   "source": [
    "Now if you print the response you can see that it is a new Python object, which contains the original OpenAI response under the 'value' field, and a 'log_probs' field where the message values are replaced with their respective log probabilities.\n",
    "\n",
    "```python\n",
    "ChatCompletionWithLogProbs(\n",
    "    value=ChatCompletion(\n",
    "        id='chatcmpl-ApHuoaVGaxOoPUX6syvQt9XkfSkCe',\n",
    "        choices=[\n",
    "            Choice(\n",
    "                finish_reason='stop',\n",
    "                index=0,\n",
    "                logprobs=ChoiceLogprobs(\n",
    "                    content=[\n",
    "                        ChatCompletionTokenLogprob(\n",
    "                            token='{\"',\n",
    "                            bytes=[123, 34],\n",
    "                            logprob=-1.50940705e-05,\n",
    "                            top_logprobs=[]\n",
    "                        ),\n",
    "                        #...\n",
    "                    ],\n",
    "                    refusal=None\n",
    "                ),\n",
    "                message=ChatCompletionMessage(\n",
    "                    content='{\"capital_of_France\":\"Paris\",\"the_two_nicest_colors\":[\"blue\",\"green\"],\"die_shows\":4}',\n",
    "                    refusal=None,\n",
    "                    role='assistant',\n",
    "                    audio=None,\n",
    "                    function_call=None,\n",
    "                    tool_calls=None\n",
    "                )\n",
    "            )\n",
    "        ],\n",
    "        created=1736786958,\n",
    "        model='gpt-4o-2024-08-06',\n",
    "        object='chat.completion',\n",
    "        service_tier='default',\n",
    "        system_fingerprint='fp_703d4ff298',\n",
    "        usage=CompletionUsage(\n",
    "            completion_tokens=27,\n",
    "            prompt_tokens=133,\n",
    "            total_tokens=160,\n",
    "            completion_tokens_details=CompletionTokensDetails(\n",
    "                accepted_prediction_tokens=0,\n",
    "                audio_tokens=0,\n",
    "                reasoning_tokens=0,\n",
    "                rejected_prediction_tokens=0\n",
    "            ),\n",
    "            prompt_tokens_details=PromptTokensDetails(audio_tokens=0, cached_tokens=0)\n",
    "        )\n",
    "    ),\n",
    "    log_probs=[\n",
    "        {\n",
    "            'capital_of_France': -1.22165105e-06,\n",
    "            'the_two_nicest_colors': [-0.00276869551265, -0.00539924761265],\n",
    "            'die_shows': -0.44008404\n",
    "        }\n",
    "    ]\n",
    ")\n",
    "```"
   ]
  },
  {
   "cell_type": "code",
   "execution_count": 9,
   "metadata": {
    "colab": {
     "base_uri": "https://localhost:8080/",
     "height": 145
    },
    "id": "8YmboSB2vtXb",
    "outputId": "f4fe01a2-332e-4953-8ef7-37d43b0161a5"
   },
   "outputs": [
    {
     "data": {
      "text/html": [
       "<pre style=\"white-space:pre;overflow-x:auto;line-height:normal;font-family:Menlo,'DejaVu Sans Mono',consolas,'Courier New',monospace\"><span style=\"font-weight: bold\">{</span>\n",
       "  <span style=\"color: #000080; text-decoration-color: #000080; font-weight: bold\">\"capital_of_France\"</span>: <span style=\"color: #008000; text-decoration-color: #008000\">\"Paris\"</span>,\n",
       "  <span style=\"color: #000080; text-decoration-color: #000080; font-weight: bold\">\"the_two_nicest_colors\"</span>: <span style=\"font-weight: bold\">[</span>\n",
       "    <span style=\"color: #008000; text-decoration-color: #008000\">\"blue\"</span>,\n",
       "    <span style=\"color: #008000; text-decoration-color: #008000\">\"green\"</span>\n",
       "  <span style=\"font-weight: bold\">]</span>,\n",
       "  <span style=\"color: #000080; text-decoration-color: #000080; font-weight: bold\">\"die_shows\"</span>: <span style=\"color: #008080; text-decoration-color: #008080; font-weight: bold\">4</span>\n",
       "<span style=\"font-weight: bold\">}</span>\n",
       "</pre>\n"
      ],
      "text/plain": [
       "\u001b[1m{\u001b[0m\n",
       "  \u001b[1;34m\"capital_of_France\"\u001b[0m: \u001b[32m\"Paris\"\u001b[0m,\n",
       "  \u001b[1;34m\"the_two_nicest_colors\"\u001b[0m: \u001b[1m[\u001b[0m\n",
       "    \u001b[32m\"blue\"\u001b[0m,\n",
       "    \u001b[32m\"green\"\u001b[0m\n",
       "  \u001b[1m]\u001b[0m,\n",
       "  \u001b[1;34m\"die_shows\"\u001b[0m: \u001b[1;36m4\u001b[0m\n",
       "\u001b[1m}\u001b[0m\n"
      ]
     },
     "metadata": {},
     "output_type": "display_data"
    }
   ],
   "source": [
    "print_json(chat_completion.value.choices[0].message.content)"
   ]
  },
  {
   "cell_type": "code",
   "execution_count": 10,
   "metadata": {
    "colab": {
     "base_uri": "https://localhost:8080/",
     "height": 97
    },
    "id": "ioGyilZAmmvW",
    "outputId": "c4ecf3f3-3f54-4a65-e1fb-a4c1532b1b81"
   },
   "outputs": [
    {
     "data": {
      "text/html": [
       "<pre style=\"white-space:pre;overflow-x:auto;line-height:normal;font-family:Menlo,'DejaVu Sans Mono',consolas,'Courier New',monospace\"><span style=\"font-weight: bold\">{</span>\n",
       "    <span style=\"color: #008000; text-decoration-color: #008000\">'capital_of_France'</span>: <span style=\"color: #008080; text-decoration-color: #008080; font-weight: bold\">-1.10244729e-06</span>,\n",
       "    <span style=\"color: #008000; text-decoration-color: #008000\">'the_two_nicest_colors'</span>: <span style=\"font-weight: bold\">[</span><span style=\"color: #008080; text-decoration-color: #008080; font-weight: bold\">-0.0022088558126500003</span>, <span style=\"color: #008080; text-decoration-color: #008080; font-weight: bold\">-0.01012725961265</span><span style=\"font-weight: bold\">]</span>,\n",
       "    <span style=\"color: #008000; text-decoration-color: #008000\">'die_shows'</span>: <span style=\"color: #008080; text-decoration-color: #008080; font-weight: bold\">-0.43754107</span>\n",
       "<span style=\"font-weight: bold\">}</span>\n",
       "</pre>\n"
      ],
      "text/plain": [
       "\u001b[1m{\u001b[0m\n",
       "    \u001b[32m'capital_of_France'\u001b[0m: \u001b[1;36m-1.10244729e-06\u001b[0m,\n",
       "    \u001b[32m'the_two_nicest_colors'\u001b[0m: \u001b[1m[\u001b[0m\u001b[1;36m-0.0022088558126500003\u001b[0m, \u001b[1;36m-0.01012725961265\u001b[0m\u001b[1m]\u001b[0m,\n",
       "    \u001b[32m'die_shows'\u001b[0m: \u001b[1;36m-0.43754107\u001b[0m\n",
       "\u001b[1m}\u001b[0m\n"
      ]
     },
     "metadata": {},
     "output_type": "display_data"
    }
   ],
   "source": [
    "print(chat_completion.log_probs[0])"
   ]
  },
  {
   "cell_type": "markdown",
   "metadata": {
    "id": "Vrqpmd5xmmvW"
   },
   "source": [
    "By applying the exponential function to logprobs, you can easily convert\n",
    "them to probabilities."
   ]
  },
  {
   "cell_type": "code",
   "execution_count": 11,
   "metadata": {
    "colab": {
     "base_uri": "https://localhost:8080/",
     "height": 33
    },
    "id": "SU0AoPbpmmvW",
    "outputId": "ee22f156-8072-4346-91c8-13d03ed701a7"
   },
   "outputs": [
    {
     "data": {
      "text/html": [
       "<pre style=\"white-space:pre;overflow-x:auto;line-height:normal;font-family:Menlo,'DejaVu Sans Mono',consolas,'Courier New',monospace\"><span style=\"font-weight: bold\">{</span><span style=\"color: #008000; text-decoration-color: #008000\">'capital_of_France_prob'</span>: <span style=\"color: #008080; text-decoration-color: #008080; font-weight: bold\">1.0</span>, <span style=\"color: #008000; text-decoration-color: #008000\">'the_two_nicest_colors_prob'</span>: <span style=\"font-weight: bold\">[</span><span style=\"color: #008080; text-decoration-color: #008080; font-weight: bold\">1.0</span>, <span style=\"color: #008080; text-decoration-color: #008080; font-weight: bold\">0.99</span><span style=\"font-weight: bold\">]</span>, <span style=\"color: #008000; text-decoration-color: #008000\">'die_shows_prob'</span>: <span style=\"color: #008080; text-decoration-color: #008080; font-weight: bold\">0.65</span><span style=\"font-weight: bold\">}</span>\n",
       "</pre>\n"
      ],
      "text/plain": [
       "\u001b[1m{\u001b[0m\u001b[32m'capital_of_France_prob'\u001b[0m: \u001b[1;36m1.0\u001b[0m, \u001b[32m'the_two_nicest_colors_prob'\u001b[0m: \u001b[1m[\u001b[0m\u001b[1;36m1.0\u001b[0m, \u001b[1;36m0.99\u001b[0m\u001b[1m]\u001b[0m, \u001b[32m'die_shows_prob'\u001b[0m: \u001b[1;36m0.65\u001b[0m\u001b[1m}\u001b[0m\n"
      ]
     },
     "metadata": {},
     "output_type": "display_data"
    }
   ],
   "source": [
    "data = chat_completion.log_probs[0]\n",
    "transformed_data = {\n",
    "    key + \"_prob\": [round(math.exp(log_prob), 2) for log_prob in value]\n",
    "    if isinstance(value, list)\n",
    "    else round(math.exp(value), 2)\n",
    "    for key, value in data.items()\n",
    "}\n",
    "print(transformed_data)"
   ]
  },
  {
   "cell_type": "markdown",
   "metadata": {
    "id": "tYaPlCoymmvW"
   },
   "source": [
    "## Enhance the chat completion result with in-line log probabilities"
   ]
  },
  {
   "cell_type": "markdown",
   "metadata": {
    "id": "ZRmQCvmOmmvW"
   },
   "source": [
    "With the `add_logprobs_inline` method you can embeds log probabilities directly within the content of the message. Instead of having log probabilities as a separate field, this function integrates them into the content if the chat completion response itself, allowing for atomic values to be accompanied by their respective log probabilities."
   ]
  },
  {
   "cell_type": "code",
   "execution_count": 12,
   "metadata": {
    "id": "7KBaRghOEJKr"
   },
   "outputs": [],
   "source": [
    "chat_completion_inline = add_logprobs_inline(completion)"
   ]
  },
  {
   "cell_type": "markdown",
   "metadata": {
    "id": "I4Yx8PdUmmvX"
   },
   "source": [
    "If you print now the response you can see that the content of the message is replaced with a dictionary that includes also inline log probabilities for atomic values.\n",
    "\n",
    "```python\n",
    "ChatCompletion(\n",
    "    id='chatcmpl-ApIDdbCuAJ8EHM6RDNgGR3mEQZTBH',\n",
    "    choices=[\n",
    "        Choice(\n",
    "            finish_reason='stop',\n",
    "            index=0,\n",
    "            logprobs=ChoiceLogprobs(\n",
    "                content=[\n",
    "                    ChatCompletionTokenLogprob(\n",
    "                        token='{\"',\n",
    "                        bytes=[123, 34],\n",
    "                        logprob=-2.3795938e-05,\n",
    "                        top_logprobs=[]\n",
    "                    ),\n",
    "                    #...\n",
    "                ],\n",
    "                refusal=None\n",
    "            ),\n",
    "            message=ChatCompletionMessage(\n",
    "                content='{\"capital_of_France\": \"Paris\", \"capital_of_France_logprob\": -7.448363e-07,\n",
    "\"the_two_nicest_colors\": [\"blue\", \"green\"], \"die_shows\": 4.0, \"die_shows_logprob\": -0.46062052}',\n",
    "                refusal=None,\n",
    "                role='assistant',\n",
    "                audio=None,\n",
    "                function_call=None,\n",
    "                tool_calls=None\n",
    "            )\n",
    "        )\n",
    "    ],\n",
    "    created=1736788125,\n",
    "    model='gpt-4o-2024-08-06',\n",
    "    object='chat.completion',\n",
    "    service_tier='default',\n",
    "    system_fingerprint='fp_703d4ff298',\n",
    "    usage=CompletionUsage(\n",
    "        completion_tokens=27,\n",
    "        prompt_tokens=133,\n",
    "        total_tokens=160,\n",
    "        completion_tokens_details=CompletionTokensDetails(\n",
    "            accepted_prediction_tokens=0,\n",
    "            audio_tokens=0,\n",
    "            reasoning_tokens=0,\n",
    "            rejected_prediction_tokens=0\n",
    "        ),\n",
    "        prompt_tokens_details=PromptTokensDetails(audio_tokens=0, cached_tokens=0)\n",
    "    )\n",
    ")\n",
    "```"
   ]
  },
  {
   "cell_type": "code",
   "execution_count": 13,
   "metadata": {
    "colab": {
     "base_uri": "https://localhost:8080/",
     "height": 177
    },
    "id": "e0kRhM1a-MF0",
    "outputId": "a9f345cb-aaf0-4e5d-a888-57bf6e7515b7"
   },
   "outputs": [
    {
     "data": {
      "text/html": [
       "<pre style=\"white-space:pre;overflow-x:auto;line-height:normal;font-family:Menlo,'DejaVu Sans Mono',consolas,'Courier New',monospace\"><span style=\"font-weight: bold\">{</span>\n",
       "  <span style=\"color: #000080; text-decoration-color: #000080; font-weight: bold\">\"capital_of_France\"</span>: <span style=\"color: #008000; text-decoration-color: #008000\">\"Paris\"</span>,\n",
       "  <span style=\"color: #000080; text-decoration-color: #000080; font-weight: bold\">\"capital_of_France_logprob\"</span>: <span style=\"color: #008080; text-decoration-color: #008080; font-weight: bold\">-1.10244729e-06</span>,\n",
       "  <span style=\"color: #000080; text-decoration-color: #000080; font-weight: bold\">\"the_two_nicest_colors\"</span>: <span style=\"font-weight: bold\">[</span>\n",
       "    <span style=\"color: #008000; text-decoration-color: #008000\">\"blue\"</span>,\n",
       "    <span style=\"color: #008000; text-decoration-color: #008000\">\"green\"</span>\n",
       "  <span style=\"font-weight: bold\">]</span>,\n",
       "  <span style=\"color: #000080; text-decoration-color: #000080; font-weight: bold\">\"die_shows\"</span>: <span style=\"color: #008080; text-decoration-color: #008080; font-weight: bold\">4.0</span>,\n",
       "  <span style=\"color: #000080; text-decoration-color: #000080; font-weight: bold\">\"die_shows_logprob\"</span>: <span style=\"color: #008080; text-decoration-color: #008080; font-weight: bold\">-0.43754107</span>\n",
       "<span style=\"font-weight: bold\">}</span>\n",
       "</pre>\n"
      ],
      "text/plain": [
       "\u001b[1m{\u001b[0m\n",
       "  \u001b[1;34m\"capital_of_France\"\u001b[0m: \u001b[32m\"Paris\"\u001b[0m,\n",
       "  \u001b[1;34m\"capital_of_France_logprob\"\u001b[0m: \u001b[1;36m-1.10244729e-06\u001b[0m,\n",
       "  \u001b[1;34m\"the_two_nicest_colors\"\u001b[0m: \u001b[1m[\u001b[0m\n",
       "    \u001b[32m\"blue\"\u001b[0m,\n",
       "    \u001b[32m\"green\"\u001b[0m\n",
       "  \u001b[1m]\u001b[0m,\n",
       "  \u001b[1;34m\"die_shows\"\u001b[0m: \u001b[1;36m4.0\u001b[0m,\n",
       "  \u001b[1;34m\"die_shows_logprob\"\u001b[0m: \u001b[1;36m-0.43754107\u001b[0m\n",
       "\u001b[1m}\u001b[0m\n"
      ]
     },
     "metadata": {},
     "output_type": "display_data"
    }
   ],
   "source": [
    "print_json(chat_completion_inline.choices[0].message.content)"
   ]
  },
  {
   "cell_type": "markdown",
   "metadata": {
    "id": "GtY9zebnmmvX"
   },
   "source": [
    "The probability can easily be obtained by exponentiating the the log-probability."
   ]
  },
  {
   "cell_type": "code",
   "execution_count": 14,
   "metadata": {
    "colab": {
     "base_uri": "https://localhost:8080/",
     "height": 129
    },
    "id": "0qbyoD4BmmvX",
    "outputId": "454a2a65-349b-4e98-e273-094876f128d3"
   },
   "outputs": [
    {
     "data": {
      "text/html": [
       "<pre style=\"white-space:pre;overflow-x:auto;line-height:normal;font-family:Menlo,'DejaVu Sans Mono',consolas,'Courier New',monospace\"><span style=\"font-weight: bold\">{</span>\n",
       "    <span style=\"color: #008000; text-decoration-color: #008000\">'capital_of_France'</span>: <span style=\"color: #008000; text-decoration-color: #008000\">'Paris'</span>,\n",
       "    <span style=\"color: #008000; text-decoration-color: #008000\">'capital_of_France_prob'</span>: <span style=\"color: #008080; text-decoration-color: #008080; font-weight: bold\">1.0</span>,\n",
       "    <span style=\"color: #008000; text-decoration-color: #008000\">'the_two_nicest_colors'</span>: <span style=\"font-weight: bold\">[</span><span style=\"color: #008000; text-decoration-color: #008000\">'blue'</span>, <span style=\"color: #008000; text-decoration-color: #008000\">'green'</span><span style=\"font-weight: bold\">]</span>,\n",
       "    <span style=\"color: #008000; text-decoration-color: #008000\">'die_shows'</span>: <span style=\"color: #008080; text-decoration-color: #008080; font-weight: bold\">4.0</span>,\n",
       "    <span style=\"color: #008000; text-decoration-color: #008000\">'die_shows_prob'</span>: <span style=\"color: #008080; text-decoration-color: #008080; font-weight: bold\">0.65</span>\n",
       "<span style=\"font-weight: bold\">}</span>\n",
       "</pre>\n"
      ],
      "text/plain": [
       "\u001b[1m{\u001b[0m\n",
       "    \u001b[32m'capital_of_France'\u001b[0m: \u001b[32m'Paris'\u001b[0m,\n",
       "    \u001b[32m'capital_of_France_prob'\u001b[0m: \u001b[1;36m1.0\u001b[0m,\n",
       "    \u001b[32m'the_two_nicest_colors'\u001b[0m: \u001b[1m[\u001b[0m\u001b[32m'blue'\u001b[0m, \u001b[32m'green'\u001b[0m\u001b[1m]\u001b[0m,\n",
       "    \u001b[32m'die_shows'\u001b[0m: \u001b[1;36m4.0\u001b[0m,\n",
       "    \u001b[32m'die_shows_prob'\u001b[0m: \u001b[1;36m0.65\u001b[0m\n",
       "\u001b[1m}\u001b[0m\n"
      ]
     },
     "metadata": {},
     "output_type": "display_data"
    }
   ],
   "source": [
    "data = json.loads(chat_completion_inline.choices[0].message.content)\n",
    "transformed_data = {\n",
    "    (key[:-8] + \"_prob\" if key.endswith(\"_logprob\") else key): (\n",
    "        round(math.exp(value), 2) if key.endswith(\"_logprob\") else value\n",
    "    )\n",
    "    for key, value in data.items()\n",
    "}\n",
    "print(transformed_data)"
   ]
  }
 ],
 "metadata": {
  "colab": {
   "provenance": []
  },
  "kernelspec": {
   "display_name": "Python 3",
   "name": "python3"
  },
  "language_info": {
   "name": "python"
  }
 },
 "nbformat": 4,
 "nbformat_minor": 0
}
